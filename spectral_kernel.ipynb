{
 "cells": [
  {
   "cell_type": "code",
   "execution_count": 1,
   "metadata": {
    "collapsed": true
   },
   "outputs": [],
   "source": [
    "import tensorflow as tf\n",
    "import gpflow\n",
    "from matplotlib import pyplot as plt\n",
    "import numpy as np\n",
    "import pandas as pd"
   ]
  },
  {
   "cell_type": "code",
   "execution_count": 12,
   "metadata": {
    "collapsed": true
   },
   "outputs": [],
   "source": [
    "class SpectralMixture(gpflow.kernels.Stationary):\n",
    "    def __init__(self, q=1, float32=False):\n",
    "        gpflow.kernels.Stationary.__init__(self, input_dim=1, active_dims=[0], lengthscales=1.0)\n",
    "        self.q = q\n",
    "        random_params = np.random.random((3, q))\n",
    "        if float32:\n",
    "            random_params = random_params.astype(np.float32)\n",
    "        self.w = gpflow.ParamList([gpflow.Param(random_params[0][i],\n",
    "                                                transform=gpflow.transforms.positive) for i in range(q)])\n",
    "        self.sigma_upp = gpflow.ParamList([gpflow.Param(random_params[1][i],\n",
    "                                                        transform=gpflow.transforms.positive) for i in range(q)])\n",
    "        self.mu = gpflow.ParamList([gpflow.Param(random_params[2][i]) for i in range(q)])\n",
    "\n",
    "    def K(self, X, X2=None, presliced=False):\n",
    "        if X2 is None:\n",
    "            X2 = X\n",
    "        tau = X-tf.transpose(X2)\n",
    "        ans = 0\n",
    "        for i in range(self.q):\n",
    "            #print(tau.dtype, self.sigma_upp[i].dtype, self.mu[i].dtype, self.w[i].dtype)\n",
    "            if self.sigma_upp[i].dtype != tau.dtype:\n",
    "                a = tf.exp(tf.negative(tf.cast(self.sigma_upp[i], tf.float32)*tf.square(tau)))\n",
    "                b = tf.cos(tf.cast(self.mu[i], tf.float32) * tau)\n",
    "                ans += tf.cast(self.w[i], tf.float32) * a * b\n",
    "            else:\n",
    "                ans += self.w[i]* tf.exp(tf.negative(self.sigma_upp[i]*tf.square(tau))) * tf.cos(self.mu[i] * tau)\n",
    "        return ans\n",
    "\n",
    "    def Kdiag(self, X):\n",
    "        ans = 0\n",
    "        for i in range(self.q):\n",
    "            ans += self.w[i]\n",
    "        return np.sum(self.w)"
   ]
  },
  {
   "cell_type": "code",
   "execution_count": 3,
   "metadata": {
    "collapsed": true
   },
   "outputs": [],
   "source": [
    "class MOSpectralMixture(gpflow.kernels.Stationary): # stationary, eucl_dist\n",
    "    def __init__(self, m):\n",
    "        gpflow.kernels.Stationary.__init__(self, input_dim=1, active_dims=[0], lengthscales=1.0)\n",
    "        self.m = m\n",
    "        self.w = gpflow.Param(np.random.random((m,)), transform=gpflow.transforms.positive)\n",
    "        self.sigma = gpflow.Param(np.random.random((m,)), transform=gpflow.transforms.positive)\n",
    "        self.mu = gpflow.Param(np.random.random((m,)))\n",
    "        self.theta = gpflow.Param(np.random.random((m,)))\n",
    "        self.phi = gpflow.Param(np.random.random((m,)))\n",
    "    \n",
    "    def get_correlated_parameters(self, I, len_I, I2, len_I2):\n",
    "        '''Returns matrices with the corresponding correleted parameters in each position'''\n",
    "        i = tf.tile(I, [1, len_I2])\n",
    "        j = tf.tile(tf.transpose(I2), [len_I, 1])\n",
    "        sigma_i = tf.gather(self.sigma, i)\n",
    "        sigma_j = tf.gather(self.sigma, j)\n",
    "        sigma_ij = tf.div(2*sigma_i*sigma_j, sigma_i + sigma_j)\n",
    "        mu_i = tf.gather(self.mu, i)\n",
    "        mu_j = tf.gather(self.mu, j)\n",
    "        mu_ij = tf.div(sigma_i*mu_j + sigma_j*mu_i, sigma_i + sigma_j)\n",
    "        w_i = tf.gather(self.w, i)\n",
    "        w_j = tf.gather(self.w, j)\n",
    "        w_ij = w_i*w_j*tf.exp(tf.div(-0.25*tf.square(mu_i - mu_j), sigma_i + sigma_j))\n",
    "        theta_ij = tf.gather(self.theta, i) - tf.gather(self.theta, j)\n",
    "        phi_ij = tf.gather(self.phi, i) - tf.gather(self.phi, j)\n",
    "        return sigma_ij, mu_ij, w_ij, theta_ij, phi_ij\n",
    "\n",
    "    def K(self, X, X2=None, presliced=False):\n",
    "        if X2 is None:\n",
    "            X2 = X\n",
    "        points_x = tf.reshape(X[:,0], (-1,1))\n",
    "        points_x2 = tf.reshape(X2[:,0], (-1,1))\n",
    "        tau = tf.tile(points_x, [1, tf.shape(X2)[0]]) -\\\n",
    "              tf.tile(tf.transpose(points_x2), [tf.shape(X)[0], 1])\n",
    "        I_X = tf.cast(tf.reshape(X[:,1], (-1,1)), dtype=tf.int32)\n",
    "        I_X2 = tf.cast(tf.reshape(X2[:,1], (-1,1)), dtype=tf.int32)\n",
    "        sigma_ij, mu_ij, w_ij, theta_ij, phi_ij = self.get_correlated_parameters(I_X, tf.shape(X)[0],\n",
    "                                                                                 I_X2, tf.shape(X2)[0])\n",
    "        alpha_ij = tf.scalar_mul((np.float64(2*np.pi))**0.5, w_ij*tf.abs(sigma_ij))\n",
    "        return alpha_ij*tf.exp(tf.negative((tau + theta_ij)**2*sigma_ij))*\\\n",
    "                tf.cos((tau + theta_ij)*mu_ij + phi_ij)\n",
    "\n",
    "    def Kdiag(self, X):\n",
    "        # tau = theta_ij = phi_ij = 0 -> return alpha_ij\n",
    "        I = tf.transpose(tf.cast(tf.reshape(X[:,1], (-1,1)), dtype=tf.int32))\n",
    "        w_i = tf.square(tf.gather(self.w, I))\n",
    "        sigma_i = tf.gather(self.sigma, I)\n",
    "        return tf.scalar_mul((np.float64(2*np.pi))**0.5, w_i*tf.abs(sigma_i))"
   ]
  },
  {
   "cell_type": "code",
   "execution_count": null,
   "metadata": {
    "collapsed": true
   },
   "outputs": [],
   "source": []
  }
 ],
 "metadata": {
  "kernelspec": {
   "display_name": "tensorflow",
   "language": "python",
   "name": "tensorflow"
  },
  "language_info": {
   "codemirror_mode": {
    "name": "ipython",
    "version": 3
   },
   "file_extension": ".py",
   "mimetype": "text/x-python",
   "name": "python",
   "nbconvert_exporter": "python",
   "pygments_lexer": "ipython3",
   "version": "3.6.2"
  }
 },
 "nbformat": 4,
 "nbformat_minor": 2
}
